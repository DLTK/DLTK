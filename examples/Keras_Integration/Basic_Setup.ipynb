{
 "cells": [
  {
   "cell_type": "code",
   "execution_count": 1,
   "metadata": {
    "collapsed": false
   },
   "outputs": [
    {
     "name": "stdout",
     "output_type": "stream",
     "text": [
      "Appending DLTK root path\n"
     ]
    }
   ],
   "source": [
    "import os, sys\n",
    "try:\n",
    "    import dltk\n",
    "except ImportError:\n",
    "    print('Appending DLTK root path')\n",
    "    sys.path.append(os.path.join('..', '..'))\n",
    "    import dltk\n",
    "\n",
    "import numpy as np\n",
    "from matplotlib import pyplot as plt\n",
    "from IPython import display\n",
    "\n",
    "# iPython specific\n",
    "%matplotlib inline\n",
    "plt_args = dict(cmap = 'viridis', interpolation = 'none')"
   ]
  },
  {
   "cell_type": "code",
   "execution_count": 2,
   "metadata": {
    "collapsed": true
   },
   "outputs": [],
   "source": [
    "# just a few simple test 3d images to show everything works\n",
    "thin_3d_eye = np.expand_dims(np.expand_dims(np.expand_dims(np.eye(5), 0), -1), -1)"
   ]
  },
  {
   "cell_type": "markdown",
   "metadata": {},
   "source": [
    "# Use Bilinear Upsampling\n",
    "Here we show how you can use the BilinearUpsampling module inside of a Keras module"
   ]
  },
  {
   "cell_type": "code",
   "execution_count": 3,
   "metadata": {
    "collapsed": false
   },
   "outputs": [],
   "source": [
    "from dltk.core.modules import BilinearUpsample"
   ]
  },
  {
   "cell_type": "code",
   "execution_count": 4,
   "metadata": {
    "collapsed": false
   },
   "outputs": [
    {
     "name": "stderr",
     "output_type": "stream",
     "text": [
      "Using TensorFlow backend.\n"
     ]
    },
    {
     "name": "stdout",
     "output_type": "stream",
     "text": [
      "_________________________________________________________________\n",
      "Layer (type)                 Output Shape              Param #   \n",
      "=================================================================\n",
      "BilinearLayer (Lambda)       (None, 20, 20, 4, 1)      0         \n",
      "=================================================================\n",
      "Total params: 0\n",
      "Trainable params: 0\n",
      "Non-trainable params: 0\n",
      "_________________________________________________________________\n"
     ]
    }
   ],
   "source": [
    "os.environ['keras_backend'] = 'tensorflow' # this must be true to work with Keras\n",
    "from keras.models import Sequential\n",
    "from keras.layers import Lambda\n",
    "bup_model = Sequential()\n",
    "bup_model.add(Lambda(BilinearUpsample(trainable = False, strides = (4,4,4)),\n",
    "                     name = 'BilinearLayer', input_shape = thin_3d_eye.shape[1:]))\n",
    "bup_model.summary()"
   ]
  },
  {
   "cell_type": "code",
   "execution_count": 5,
   "metadata": {
    "collapsed": false
   },
   "outputs": [
    {
     "name": "stderr",
     "output_type": "stream",
     "text": [
      "C:\\IntelPython35\\envs\\tf-xg-boost\\lib\\site-packages\\keras\\backend\\tensorflow_backend.py:2289: UserWarning: Expected no kwargs, you passed 1\n",
      "kwargs passed to function are ignored with Tensorflow backend\n",
      "  warnings.warn('\\n'.join(msg))\n"
     ]
    },
    {
     "data": {
      "text/plain": [
       "<matplotlib.image.AxesImage at 0x1b6ac7712e8>"
      ]
     },
     "execution_count": 5,
     "metadata": {},
     "output_type": "execute_result"
    },
    {
     "data": {
      "image/png": "[encoded data removed]",
      "text/plain": [
       "<matplotlib.figure.Figure at 0x1b6fc44cd68>"
      ]
     },
     "metadata": {},
     "output_type": "display_data"
    }
   ],
   "source": [
    "up_img = bup_model.predict(thin_3d_eye)[0, :, :, :, 0]\n",
    "fig, (ax1, ax2, ax3) = plt.subplots(1, 3, figsize = (12, 4))\n",
    "ax1.imshow(np.sum(up_img,0),**plt_args)\n",
    "ax2.imshow(np.sum(up_img,1),**plt_args)\n",
    "ax3.imshow(np.sum(up_img,2),**plt_args)"
   ]
  },
  {
   "cell_type": "markdown",
   "metadata": {},
   "source": [
    "# Vanilla Residual Unit"
   ]
  },
  {
   "cell_type": "code",
   "execution_count": 6,
   "metadata": {
    "collapsed": false
   },
   "outputs": [
    {
     "name": "stdout",
     "output_type": "stream",
     "text": [
      "_________________________________________________________________\n",
      "Layer (type)                 Output Shape              Param #   \n",
      "=================================================================\n",
      "ResUnit (Lambda)             (None, 5, 5, 1, 1)        0         \n",
      "=================================================================\n",
      "Total params: 0\n",
      "Trainable params: 0\n",
      "Non-trainable params: 0\n",
      "_________________________________________________________________\n"
     ]
    }
   ],
   "source": [
    "from dltk.core.modules import VanillaResidualUnit\n",
    "from keras import backend as K\n",
    "vru_model = Sequential()\n",
    "def vru_layer(in_tensor):\n",
    "    \"\"\"We require the function wrapper since it needs information about training and testing phase\"\"\"\n",
    "    base_vru =  VanillaResidualUnit(out_filters = 1, kernel_size=5, stride=(1, 1, 1), relu_leakiness=0.01)\n",
    "    return base_vru(in_tensor, True) # K.learning_phase()\n",
    "vru_model.add(Lambda(vru_layer, name = 'ResUnit', input_shape = thin_3d_eye.shape[1:]))\n",
    "vru_model.summary()"
   ]
  },
  {
   "cell_type": "code",
   "execution_count": 7,
   "metadata": {
    "collapsed": false
   },
   "outputs": [
    {
     "name": "stderr",
     "output_type": "stream",
     "text": [
      "C:\\IntelPython35\\envs\\tf-xg-boost\\lib\\site-packages\\keras\\backend\\tensorflow_backend.py:2289: UserWarning: Expected no kwargs, you passed 1\n",
      "kwargs passed to function are ignored with Tensorflow backend\n",
      "  warnings.warn('\\n'.join(msg))\n"
     ]
    },
    {
     "data": {
      "text/plain": [
       "<matplotlib.image.AxesImage at 0x1b6b8824fd0>"
      ]
     },
     "execution_count": 7,
     "metadata": {},
     "output_type": "execute_result"
    },
    {
     "data": {
      "image/png": "[encoded data removed]",
      "text/plain": [
       "<matplotlib.figure.Figure at 0x1b6b83f4e80>"
      ]
     },
     "metadata": {},
     "output_type": "display_data"
    }
   ],
   "source": [
    "vru_img = vru_model.predict(thin_3d_eye)[0, :, :, :, 0]\n",
    "fig, (ax1, ax2, ax3) = plt.subplots(1, 3, figsize = (12, 4))\n",
    "ax1.imshow(np.sum(vru_img,0),**plt_args)\n",
    "ax2.imshow(np.sum(vru_img,1),**plt_args)\n",
    "ax3.imshow(np.sum(vru_img,2),**plt_args)"
   ]
  },
  {
   "cell_type": "code",
   "execution_count": null,
   "metadata": {
    "collapsed": true
   },
   "outputs": [],
   "source": []
  }
 ],
 "metadata": {
  "kernelspec": {
   "display_name": "tf-xg-cntk",
   "language": "python",
   "name": "tf-xg-cntk"
  },
  "language_info": {
   "codemirror_mode": {
    "name": "ipython",
    "version": 3
   },
   "file_extension": ".py",
   "mimetype": "text/x-python",
   "name": "python",
   "nbconvert_exporter": "python",
   "pygments_lexer": "ipython3",
   "version": "3.5.2"
  }
 },
 "nbformat": 4,
 "nbformat_minor": 2
}
